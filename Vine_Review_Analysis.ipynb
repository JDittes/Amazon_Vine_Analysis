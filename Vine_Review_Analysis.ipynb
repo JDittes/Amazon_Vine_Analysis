{
  "nbformat": 4,
  "nbformat_minor": 0,
  "metadata": {
    "colab": {
      "name": "Vine_Review_Analysis.ipynb",
      "provenance": [],
      "authorship_tag": "ABX9TyNIMxm//siD2DUoMmxSHQGa",
      "include_colab_link": true
    },
    "kernelspec": {
      "name": "python3",
      "display_name": "Python 3"
    },
    "language_info": {
      "name": "python"
    }
  },
  "cells": [
    {
      "cell_type": "markdown",
      "metadata": {
        "id": "view-in-github",
        "colab_type": "text"
      },
      "source": [
        "<a href=\"https://colab.research.google.com/github/JDittes/Amazon_Vine_Analysis/blob/main/Vine_Review_Analysis.ipynb\" target=\"_parent\"><img src=\"https://colab.research.google.com/assets/colab-badge.svg\" alt=\"Open In Colab\"/></a>"
      ]
    },
    {
      "cell_type": "code",
      "metadata": {
        "id": "V58rxea0HqSa",
        "colab": {
          "base_uri": "https://localhost:8080/"
        },
        "outputId": "81064985-87f4-43f1-bbee-382251e01634"
      },
      "source": [
        "import os\n",
        "# Find the latest version of spark 3.0 from http://www.apache.org/dist/spark/ and enter as the spark version\n",
        "# For example:\n",
        "# spark_version = 'spark-3.0.3'\n",
        "spark_version = 'spark-3.0.3'\n",
        "os.environ['SPARK_VERSION']=spark_version\n",
        "\n",
        "# Install Spark and Java\n",
        "!apt-get update\n",
        "!apt-get install openjdk-11-jdk-headless -qq > /dev/null\n",
        "!wget -q http://www.apache.org/dist/spark/$SPARK_VERSION/$SPARK_VERSION-bin-hadoop2.7.tgz\n",
        "!tar xf $SPARK_VERSION-bin-hadoop2.7.tgz\n",
        "!pip install -q findspark\n",
        "\n",
        "# Set Environment Variables\n",
        "import os\n",
        "os.environ[\"JAVA_HOME\"] = \"/usr/lib/jvm/java-11-openjdk-amd64\"\n",
        "os.environ[\"SPARK_HOME\"] = f\"/content/{spark_version}-bin-hadoop2.7\"\n",
        "\n",
        "# Start a SparkSession\n",
        "import findspark\n",
        "findspark.init()"
      ],
      "execution_count": 1,
      "outputs": [
        {
          "output_type": "stream",
          "name": "stdout",
          "text": [
            "\r0% [Working]\r            \rGet:1 https://cloud.r-project.org/bin/linux/ubuntu bionic-cran40/ InRelease [3,626 B]\n",
            "Ign:2 https://developer.download.nvidia.com/compute/cuda/repos/ubuntu1804/x86_64  InRelease\n",
            "Get:3 http://security.ubuntu.com/ubuntu bionic-security InRelease [88.7 kB]\n",
            "Ign:4 https://developer.download.nvidia.com/compute/machine-learning/repos/ubuntu1804/x86_64  InRelease\n",
            "Get:5 https://developer.download.nvidia.com/compute/cuda/repos/ubuntu1804/x86_64  Release [696 B]\n",
            "Hit:6 http://archive.ubuntu.com/ubuntu bionic InRelease\n",
            "Hit:7 https://developer.download.nvidia.com/compute/machine-learning/repos/ubuntu1804/x86_64  Release\n",
            "Get:8 https://developer.download.nvidia.com/compute/cuda/repos/ubuntu1804/x86_64  Release.gpg [836 B]\n",
            "Get:9 http://ppa.launchpad.net/c2d4u.team/c2d4u4.0+/ubuntu bionic InRelease [15.9 kB]\n",
            "Get:10 http://archive.ubuntu.com/ubuntu bionic-updates InRelease [88.7 kB]\n",
            "Get:11 https://cloud.r-project.org/bin/linux/ubuntu bionic-cran40/ Packages [82.3 kB]\n",
            "Hit:12 http://ppa.launchpad.net/cran/libgit2/ubuntu bionic InRelease\n",
            "Get:13 http://archive.ubuntu.com/ubuntu bionic-backports InRelease [74.6 kB]\n",
            "Get:14 http://ppa.launchpad.net/deadsnakes/ppa/ubuntu bionic InRelease [15.9 kB]\n",
            "Get:16 http://ppa.launchpad.net/graphics-drivers/ppa/ubuntu bionic InRelease [21.3 kB]\n",
            "Get:17 https://developer.download.nvidia.com/compute/cuda/repos/ubuntu1804/x86_64  Packages [952 kB]\n",
            "Get:18 http://security.ubuntu.com/ubuntu bionic-security/main amd64 Packages [2,694 kB]\n",
            "Get:19 http://security.ubuntu.com/ubuntu bionic-security/restricted amd64 Packages [884 kB]\n",
            "Get:20 http://security.ubuntu.com/ubuntu bionic-security/universe amd64 Packages [1,490 kB]\n",
            "Get:21 http://ppa.launchpad.net/c2d4u.team/c2d4u4.0+/ubuntu bionic/main Sources [1,831 kB]\n",
            "Get:22 http://archive.ubuntu.com/ubuntu bionic-updates/restricted amd64 Packages [918 kB]\n",
            "Get:23 http://archive.ubuntu.com/ubuntu bionic-updates/main amd64 Packages [3,133 kB]\n",
            "Get:24 http://archive.ubuntu.com/ubuntu bionic-updates/multiverse amd64 Packages [29.8 kB]\n",
            "Get:25 http://archive.ubuntu.com/ubuntu bionic-updates/universe amd64 Packages [2,268 kB]\n",
            "Get:26 http://ppa.launchpad.net/c2d4u.team/c2d4u4.0+/ubuntu bionic/main amd64 Packages [938 kB]\n",
            "Get:27 http://archive.ubuntu.com/ubuntu bionic-backports/main amd64 Packages [12.2 kB]\n",
            "Get:28 http://archive.ubuntu.com/ubuntu bionic-backports/universe amd64 Packages [12.9 kB]\n",
            "Get:29 http://ppa.launchpad.net/deadsnakes/ppa/ubuntu bionic/main amd64 Packages [45.2 kB]\n",
            "Get:30 http://ppa.launchpad.net/graphics-drivers/ppa/ubuntu bionic/main amd64 Packages [44.3 kB]\n",
            "Fetched 15.6 MB in 5s (2,874 kB/s)\n",
            "Reading package lists... Done\n"
          ]
        }
      ]
    },
    {
      "cell_type": "code",
      "metadata": {
        "id": "_xKwTpATHqSe",
        "colab": {
          "base_uri": "https://localhost:8080/"
        },
        "outputId": "9afb3c14-1e86-4e8e-fc2c-9c2139090c98"
      },
      "source": [
        "# Download the Postgres driver that will allow Spark to interact with Postgres.\n",
        "!wget https://jdbc.postgresql.org/download/postgresql-42.2.16.jar"
      ],
      "execution_count": 2,
      "outputs": [
        {
          "output_type": "stream",
          "name": "stdout",
          "text": [
            "--2022-04-09 20:17:05--  https://jdbc.postgresql.org/download/postgresql-42.2.16.jar\n",
            "Resolving jdbc.postgresql.org (jdbc.postgresql.org)... 72.32.157.228, 2001:4800:3e1:1::228\n",
            "Connecting to jdbc.postgresql.org (jdbc.postgresql.org)|72.32.157.228|:443... connected.\n",
            "HTTP request sent, awaiting response... 200 OK\n",
            "Length: 1002883 (979K) [application/java-archive]\n",
            "Saving to: ‘postgresql-42.2.16.jar’\n",
            "\n",
            "postgresql-42.2.16. 100%[===================>] 979.38K  --.-KB/s    in 0.08s   \n",
            "\n",
            "2022-04-09 20:17:06 (11.7 MB/s) - ‘postgresql-42.2.16.jar’ saved [1002883/1002883]\n",
            "\n"
          ]
        }
      ]
    },
    {
      "cell_type": "code",
      "metadata": {
        "id": "MMqDAjVS0KN9"
      },
      "source": [
        "from pyspark.sql import SparkSession\n",
        "spark = SparkSession.builder.appName(\"M16-Amazon-Challenge\").config(\"spark.driver.extraClassPath\",\"/content/postgresql-42.2.16.jar\").getOrCreate()"
      ],
      "execution_count": 3,
      "outputs": []
    },
    {
      "cell_type": "markdown",
      "metadata": {
        "id": "cyBsySGuY-9V"
      },
      "source": [
        "### Load Amazon Data into Spark DataFrame"
      ]
    },
    {
      "cell_type": "code",
      "metadata": {
        "id": "CtCmBhQJY-9Z",
        "colab": {
          "base_uri": "https://localhost:8080/"
        },
        "outputId": "9efc2adc-cc27-407b-f2ad-1309adb1c5dc"
      },
      "source": [
        "from pyspark import SparkFiles\n",
        "url = \"https://s3.amazonaws.com/amazon-reviews-pds/tsv/amazon_reviews_us_Watches_v1_00.tsv.gz\"\n",
        "spark.sparkContext.addFile(url)\n",
        "df = spark.read.option(\"encoding\", \"UTF-8\").csv(SparkFiles.get(\"\"), sep=\"\\t\", header=True, inferSchema=True)\n",
        "df.show()"
      ],
      "execution_count": 4,
      "outputs": [
        {
          "output_type": "stream",
          "name": "stdout",
          "text": [
            "+-----------+-----------+--------------+----------+--------------+--------------------+----------------+-----------+-------------+-----------+----+-----------------+--------------------+--------------------+-----------+\n",
            "|marketplace|customer_id|     review_id|product_id|product_parent|       product_title|product_category|star_rating|helpful_votes|total_votes|vine|verified_purchase|     review_headline|         review_body|review_date|\n",
            "+-----------+-----------+--------------+----------+--------------+--------------------+----------------+-----------+-------------+-----------+----+-----------------+--------------------+--------------------+-----------+\n",
            "|         US|    3653882|R3O9SGZBVQBV76|B00FALQ1ZC|     937001370|Invicta Women's 1...|         Watches|          5|            0|          0|   N|                Y|          Five Stars|Absolutely love t...| 2015-08-31|\n",
            "|         US|   14661224| RKH8BNC3L5DLF|B00D3RGO20|     484010722|Kenneth Cole New ...|         Watches|          5|            0|          0|   N|                Y|I love thiswatch ...|I love this watch...| 2015-08-31|\n",
            "|         US|   27324930|R2HLE8WKZSU3NL|B00DKYC7TK|     361166390|Ritche 22mm Black...|         Watches|          2|            1|          1|   N|                Y|           Two Stars|           Scratches| 2015-08-31|\n",
            "|         US|    7211452|R31U3UH5AZ42LL|B000EQS1JW|     958035625|Citizen Men's BM8...|         Watches|          5|            0|          0|   N|                Y|          Five Stars|It works well on ...| 2015-08-31|\n",
            "|         US|   12733322|R2SV659OUJ945Y|B00A6GFD7S|     765328221|Orient ER27009B M...|         Watches|          4|            0|          0|   N|                Y|Beautiful face, b...|Beautiful watch f...| 2015-08-31|\n",
            "|         US|    6576411| RA51CP8TR5A2L|B00EYSOSE8|     230493695|Casio Men's GW-94...|         Watches|          5|            0|          0|   N|                Y|       No complaints|i love this watch...| 2015-08-31|\n",
            "|         US|   11811565| RB2Q7DLDN6TH6|B00WM0QA3M|     549298279|Fossil Women's ES...|         Watches|          5|            1|          1|   N|                Y|          Five Stars|for my wife and s...| 2015-08-31|\n",
            "|         US|   49401598|R2RHFJV0UYBK3Y|B00A4EYBR0|     844009113|INFANTRY Mens Nig...|         Watches|          1|            1|          5|   N|                N|I was about to bu...|I was about to bu...| 2015-08-31|\n",
            "|         US|   45925069|R2Z6JOQ94LFHEP|B00MAMPGGE|     263720892|G-Shock Men's Gre...|         Watches|          5|            1|          2|   N|                Y|      Perfect watch!|Watch is perfect....| 2015-08-31|\n",
            "|         US|   44751341| RX27XIIWY5JPB|B004LBPB7Q|     124278407|Heiden Quad Watch...|         Watches|          4|            0|          0|   N|                Y|Great quality and...|Great quality and...| 2015-08-31|\n",
            "|         US|    9962330|R15C7QEZT0LGZN|B00KGTVGKS|      28017857|Fossil Women's ES...|         Watches|          4|            2|          2|   N|                Y|           Satisfied|The watch was pre...| 2015-08-31|\n",
            "|         US|   16097204|R361XSS37V0NCZ|B0039UT5OU|     685450910|Casio General Men...|         Watches|          1|            0|          0|   N|                N|I do not think th...|I bought this wat...| 2015-08-31|\n",
            "|         US|   51330346| ROTNLALUAJAUB|B00MPF0XJQ|     767769082|2Tone Gold Silver...|         Watches|          3|            0|          0|   N|                Y|         Three Stars|It is a cheap wat...| 2015-08-31|\n",
            "|         US|    4201739|R2DYX7QU6BGOHR|B003P1OHHS|     648595227|Bulova Men's 98B1...|         Watches|          5|            0|          0|   N|                Y|          Five Stars|Heavier than i th...| 2015-08-31|\n",
            "|         US|   26339765| RWASY7FKI7QOT|B00R70YEOE|     457338020|Casio - G-Shock -...|         Watches|          5|            2|          3|   N|                Y|  Worth it - love it|Had it for severa...| 2015-08-31|\n",
            "|         US|    2692576|R2KKYZIN3CCL21|B000FVE3BG|     824370661|Invicta Men's 332...|         Watches|          5|            0|          0|   N|                Y|This is when diff...|This one is diffe...| 2015-08-31|\n",
            "|         US|   44713366|R22H4FGVD5O52O|B008X6JB12|     814431355|Seiko Women's SUT...|         Watches|          4|            1|          1|   N|                Y|Thewatch is attra...|The watch is attr...| 2015-08-31|\n",
            "|         US|   32778769|R11UACZERCM4ZY|B0040UOFPW|     187700878|Anne Klein Women'...|         Watches|          5|            0|          0|   N|                Y|          Five Stars|      said my wife..| 2015-08-31|\n",
            "|         US|   27258523|R1AT8NQ38UQOL6|B00UR2R5UY|     594315262|Guess U13630G1 Me...|         Watches|          5|            0|          0|   N|                Y|          Five Stars|Nice watch, on ti...| 2015-08-31|\n",
            "|         US|   42646538|R2NCZRQGIF1Q75|B00HFF57L0|     520810507|Nixon Men's Geo V...|         Watches|          4|            0|          0|   N|                Y|        Very stylish|Looks great and l...| 2015-08-31|\n",
            "+-----------+-----------+--------------+----------+--------------+--------------------+----------------+-----------+-------------+-----------+----+-----------------+--------------------+--------------------+-----------+\n",
            "only showing top 20 rows\n",
            "\n"
          ]
        }
      ]
    },
    {
      "cell_type": "code",
      "metadata": {
        "id": "7jiUvs1aY--L"
      },
      "source": [
        "# Configure settings for RDS\n",
        "mode = \"append\"\n",
        "jdbc_url=\"jdbc:postgresql://amz-book-revs.czwz82lmzz0z.us-east-2.rds.amazonaws.com:5432/postgres\"\n",
        "config = {\"user\":\"postgres\", \n",
        "          \"password\": \"1chMagBucher\", \n",
        "          \"driver\":\"org.postgresql.Driver\"}"
      ],
      "execution_count": 5,
      "outputs": []
    },
    {
      "cell_type": "code",
      "metadata": {
        "id": "lzMmkdKmY--D",
        "colab": {
          "base_uri": "https://localhost:8080/"
        },
        "outputId": "91064554-3c75-4929-f6fe-b6783049df7e"
      },
      "source": [
        "# Create the vine_table. DataFrame\n",
        "vine_table = df.select('review_id','star_rating','helpful_votes','total_votes','vine','verified_purchase')\n",
        "vine_table.show()"
      ],
      "execution_count": 6,
      "outputs": [
        {
          "output_type": "stream",
          "name": "stdout",
          "text": [
            "+--------------+-----------+-------------+-----------+----+-----------------+\n",
            "|     review_id|star_rating|helpful_votes|total_votes|vine|verified_purchase|\n",
            "+--------------+-----------+-------------+-----------+----+-----------------+\n",
            "|R3O9SGZBVQBV76|          5|            0|          0|   N|                Y|\n",
            "| RKH8BNC3L5DLF|          5|            0|          0|   N|                Y|\n",
            "|R2HLE8WKZSU3NL|          2|            1|          1|   N|                Y|\n",
            "|R31U3UH5AZ42LL|          5|            0|          0|   N|                Y|\n",
            "|R2SV659OUJ945Y|          4|            0|          0|   N|                Y|\n",
            "| RA51CP8TR5A2L|          5|            0|          0|   N|                Y|\n",
            "| RB2Q7DLDN6TH6|          5|            1|          1|   N|                Y|\n",
            "|R2RHFJV0UYBK3Y|          1|            1|          5|   N|                N|\n",
            "|R2Z6JOQ94LFHEP|          5|            1|          2|   N|                Y|\n",
            "| RX27XIIWY5JPB|          4|            0|          0|   N|                Y|\n",
            "|R15C7QEZT0LGZN|          4|            2|          2|   N|                Y|\n",
            "|R361XSS37V0NCZ|          1|            0|          0|   N|                N|\n",
            "| ROTNLALUAJAUB|          3|            0|          0|   N|                Y|\n",
            "|R2DYX7QU6BGOHR|          5|            0|          0|   N|                Y|\n",
            "| RWASY7FKI7QOT|          5|            2|          3|   N|                Y|\n",
            "|R2KKYZIN3CCL21|          5|            0|          0|   N|                Y|\n",
            "|R22H4FGVD5O52O|          4|            1|          1|   N|                Y|\n",
            "|R11UACZERCM4ZY|          5|            0|          0|   N|                Y|\n",
            "|R1AT8NQ38UQOL6|          5|            0|          0|   N|                Y|\n",
            "|R2NCZRQGIF1Q75|          4|            0|          0|   N|                Y|\n",
            "+--------------+-----------+-------------+-----------+----+-----------------+\n",
            "only showing top 20 rows\n",
            "\n"
          ]
        }
      ]
    },
    {
      "cell_type": "code",
      "source": [
        "from pyspark.sql.types import IntegerType\n",
        "total_votes_df = vine_table.withColumn('total_votes', vine_table['total_votes'].cast(IntegerType()))\n"
      ],
      "metadata": {
        "id": "YRK12sN4CrWD"
      },
      "execution_count": 7,
      "outputs": []
    },
    {
      "cell_type": "code",
      "source": [
        "total_votes_df = total_votes_df.withColumn('helpful_votes', total_votes_df['helpful_votes'].cast(IntegerType()))"
      ],
      "metadata": {
        "id": "aDRPhG2bHZTZ"
      },
      "execution_count": 8,
      "outputs": []
    },
    {
      "cell_type": "code",
      "source": [
        "total_votes_df.dropna()"
      ],
      "metadata": {
        "colab": {
          "base_uri": "https://localhost:8080/"
        },
        "id": "YTtx3RwpEyI8",
        "outputId": "e30d44e8-cbe5-4bdd-a805-175f10f66f02"
      },
      "execution_count": 9,
      "outputs": [
        {
          "output_type": "execute_result",
          "data": {
            "text/plain": [
              "DataFrame[review_id: string, star_rating: int, helpful_votes: int, total_votes: int, vine: string, verified_purchase: string]"
            ]
          },
          "metadata": {},
          "execution_count": 9
        }
      ]
    },
    {
      "cell_type": "code",
      "source": [
        "from pyspark.sql.functions import col\n",
        "total_votes_df = total_votes_df.filter(col('total_votes') >= 20)\n",
        "total_votes_df.show()"
      ],
      "metadata": {
        "colab": {
          "base_uri": "https://localhost:8080/"
        },
        "id": "POGC7FJOB9Aq",
        "outputId": "ed204ffb-0a9e-47a0-f819-17261caa23ca"
      },
      "execution_count": 10,
      "outputs": [
        {
          "output_type": "stream",
          "name": "stdout",
          "text": [
            "+--------------+-----------+-------------+-----------+----+-----------------+\n",
            "|     review_id|star_rating|helpful_votes|total_votes|vine|verified_purchase|\n",
            "+--------------+-----------+-------------+-----------+----+-----------------+\n",
            "|R14W2VCHHK5V7W|          5|           19|         20|   N|                Y|\n",
            "|R1S3T57O3OYT5S|          5|           19|         20|   N|                Y|\n",
            "|R1BTWIBLYYVOV7|          5|           30|         30|   N|                Y|\n",
            "| R6F9VY91ADPLA|          1|            8|         30|   N|                N|\n",
            "|R3PXNV89DFIXKV|          5|           35|         37|   N|                Y|\n",
            "|R2ZF9NYVT3J7D6|          5|           19|         22|   N|                Y|\n",
            "|R20NYA5V0UF9NE|          5|           27|         28|   N|                Y|\n",
            "|R2X8FZRUOS8R8C|          4|           25|         26|   N|                Y|\n",
            "|R2D8IMBVX3XCLF|          1|           14|         20|   N|                Y|\n",
            "|R25UD9TA63L3Q8|          5|           25|         27|   N|                Y|\n",
            "|R2RB1HML8N712P|          5|           26|         28|   N|                Y|\n",
            "| ROXA8XP5EI2KK|          5|           48|         49|   N|                N|\n",
            "|R149IHTGGSRGX9|          5|           19|         20|   N|                Y|\n",
            "|R1B7M0OP3UNP6O|          5|           49|         52|   Y|                N|\n",
            "|R2N92CUM7WBA1A|          5|           27|         28|   N|                Y|\n",
            "|R2TAFZNG4KHFQB|          4|           24|         24|   N|                Y|\n",
            "| RNRFACS48ZE4A|          5|           21|         21|   N|                Y|\n",
            "|R2PO5QTLXJ9LHG|          5|           33|         46|   N|                N|\n",
            "|R38KDT041DRMIN|          5|           19|         24|   N|                Y|\n",
            "|R2MNPDWCA42I4G|          1|           17|         20|   N|                N|\n",
            "+--------------+-----------+-------------+-----------+----+-----------------+\n",
            "only showing top 20 rows\n",
            "\n"
          ]
        }
      ]
    },
    {
      "cell_type": "code",
      "source": [
        "votes_div = total_votes_df['helpful_votes']/total_votes_df['total_votes']\n",
        "total_votes_df = total_votes_df.withColumn('Ratio', votes_div)\n",
        "total_votes_df.show()"
      ],
      "metadata": {
        "colab": {
          "base_uri": "https://localhost:8080/"
        },
        "id": "cejkA20LICen",
        "outputId": "5a8a93b2-4ebe-48f7-c45e-aa2fa600add1"
      },
      "execution_count": 11,
      "outputs": [
        {
          "output_type": "stream",
          "name": "stdout",
          "text": [
            "+--------------+-----------+-------------+-----------+----+-----------------+-------------------+\n",
            "|     review_id|star_rating|helpful_votes|total_votes|vine|verified_purchase|              Ratio|\n",
            "+--------------+-----------+-------------+-----------+----+-----------------+-------------------+\n",
            "|R14W2VCHHK5V7W|          5|           19|         20|   N|                Y|               0.95|\n",
            "|R1S3T57O3OYT5S|          5|           19|         20|   N|                Y|               0.95|\n",
            "|R1BTWIBLYYVOV7|          5|           30|         30|   N|                Y|                1.0|\n",
            "| R6F9VY91ADPLA|          1|            8|         30|   N|                N|0.26666666666666666|\n",
            "|R3PXNV89DFIXKV|          5|           35|         37|   N|                Y| 0.9459459459459459|\n",
            "|R2ZF9NYVT3J7D6|          5|           19|         22|   N|                Y| 0.8636363636363636|\n",
            "|R20NYA5V0UF9NE|          5|           27|         28|   N|                Y| 0.9642857142857143|\n",
            "|R2X8FZRUOS8R8C|          4|           25|         26|   N|                Y| 0.9615384615384616|\n",
            "|R2D8IMBVX3XCLF|          1|           14|         20|   N|                Y|                0.7|\n",
            "|R25UD9TA63L3Q8|          5|           25|         27|   N|                Y| 0.9259259259259259|\n",
            "|R2RB1HML8N712P|          5|           26|         28|   N|                Y| 0.9285714285714286|\n",
            "| ROXA8XP5EI2KK|          5|           48|         49|   N|                N| 0.9795918367346939|\n",
            "|R149IHTGGSRGX9|          5|           19|         20|   N|                Y|               0.95|\n",
            "|R1B7M0OP3UNP6O|          5|           49|         52|   Y|                N| 0.9423076923076923|\n",
            "|R2N92CUM7WBA1A|          5|           27|         28|   N|                Y| 0.9642857142857143|\n",
            "|R2TAFZNG4KHFQB|          4|           24|         24|   N|                Y|                1.0|\n",
            "| RNRFACS48ZE4A|          5|           21|         21|   N|                Y|                1.0|\n",
            "|R2PO5QTLXJ9LHG|          5|           33|         46|   N|                N|  0.717391304347826|\n",
            "|R38KDT041DRMIN|          5|           19|         24|   N|                Y| 0.7916666666666666|\n",
            "|R2MNPDWCA42I4G|          1|           17|         20|   N|                N|               0.85|\n",
            "+--------------+-----------+-------------+-----------+----+-----------------+-------------------+\n",
            "only showing top 20 rows\n",
            "\n"
          ]
        }
      ]
    },
    {
      "cell_type": "code",
      "source": [
        "helpful_votes_df = total_votes_df.filter('Ratio >= 0.5')\n",
        "helpful_votes_df.show()"
      ],
      "metadata": {
        "colab": {
          "base_uri": "https://localhost:8080/"
        },
        "id": "9ek17h2FCQ3j",
        "outputId": "2788ce19-29bc-4470-d709-98b6a72b3224"
      },
      "execution_count": 12,
      "outputs": [
        {
          "output_type": "stream",
          "name": "stdout",
          "text": [
            "+--------------+-----------+-------------+-----------+----+-----------------+------------------+\n",
            "|     review_id|star_rating|helpful_votes|total_votes|vine|verified_purchase|             Ratio|\n",
            "+--------------+-----------+-------------+-----------+----+-----------------+------------------+\n",
            "|R14W2VCHHK5V7W|          5|           19|         20|   N|                Y|              0.95|\n",
            "|R1S3T57O3OYT5S|          5|           19|         20|   N|                Y|              0.95|\n",
            "|R1BTWIBLYYVOV7|          5|           30|         30|   N|                Y|               1.0|\n",
            "|R3PXNV89DFIXKV|          5|           35|         37|   N|                Y|0.9459459459459459|\n",
            "|R2ZF9NYVT3J7D6|          5|           19|         22|   N|                Y|0.8636363636363636|\n",
            "|R20NYA5V0UF9NE|          5|           27|         28|   N|                Y|0.9642857142857143|\n",
            "|R2X8FZRUOS8R8C|          4|           25|         26|   N|                Y|0.9615384615384616|\n",
            "|R2D8IMBVX3XCLF|          1|           14|         20|   N|                Y|               0.7|\n",
            "|R25UD9TA63L3Q8|          5|           25|         27|   N|                Y|0.9259259259259259|\n",
            "|R2RB1HML8N712P|          5|           26|         28|   N|                Y|0.9285714285714286|\n",
            "| ROXA8XP5EI2KK|          5|           48|         49|   N|                N|0.9795918367346939|\n",
            "|R149IHTGGSRGX9|          5|           19|         20|   N|                Y|              0.95|\n",
            "|R1B7M0OP3UNP6O|          5|           49|         52|   Y|                N|0.9423076923076923|\n",
            "|R2N92CUM7WBA1A|          5|           27|         28|   N|                Y|0.9642857142857143|\n",
            "|R2TAFZNG4KHFQB|          4|           24|         24|   N|                Y|               1.0|\n",
            "| RNRFACS48ZE4A|          5|           21|         21|   N|                Y|               1.0|\n",
            "|R2PO5QTLXJ9LHG|          5|           33|         46|   N|                N| 0.717391304347826|\n",
            "|R38KDT041DRMIN|          5|           19|         24|   N|                Y|0.7916666666666666|\n",
            "|R2MNPDWCA42I4G|          1|           17|         20|   N|                N|              0.85|\n",
            "|R3F3KMKY26K620|          4|           25|         26|   N|                Y|0.9615384615384616|\n",
            "+--------------+-----------+-------------+-----------+----+-----------------+------------------+\n",
            "only showing top 20 rows\n",
            "\n"
          ]
        }
      ]
    },
    {
      "cell_type": "code",
      "source": [
        "total_fives = helpful_votes_df.filter('star_rating == 5').count()\n",
        "total_fives"
      ],
      "metadata": {
        "colab": {
          "base_uri": "https://localhost:8080/"
        },
        "id": "tOlgGgcvDKzz",
        "outputId": "d0ed4eb9-5ffa-48ef-eec0-1ad1729a8cfb"
      },
      "execution_count": 42,
      "outputs": [
        {
          "output_type": "execute_result",
          "data": {
            "text/plain": [
              "4347"
            ]
          },
          "metadata": {},
          "execution_count": 42
        }
      ]
    },
    {
      "cell_type": "code",
      "source": [
        "vine_yviews_df = helpful_votes_df.filter(col(\"vine\").contains('Y'))\n",
        "vine_yviews_df.show()"
      ],
      "metadata": {
        "colab": {
          "base_uri": "https://localhost:8080/"
        },
        "id": "R6YDsCIqGsyA",
        "outputId": "8fe78cd6-8be7-46b6-9dde-fa156d163bc6"
      },
      "execution_count": 13,
      "outputs": [
        {
          "output_type": "stream",
          "name": "stdout",
          "text": [
            "+--------------+-----------+-------------+-----------+----+-----------------+------------------+\n",
            "|     review_id|star_rating|helpful_votes|total_votes|vine|verified_purchase|             Ratio|\n",
            "+--------------+-----------+-------------+-----------+----+-----------------+------------------+\n",
            "|R1B7M0OP3UNP6O|          5|           49|         52|   Y|                N|0.9423076923076923|\n",
            "|R2UUV4UGGYMQG8|          5|           34|         39|   Y|                N|0.8717948717948718|\n",
            "| R9K0LZV2BK9YY|          4|           37|         39|   Y|                N|0.9487179487179487|\n",
            "|R2OVFLNEUEGTJM|          3|           18|         25|   Y|                N|              0.72|\n",
            "| RBE09ELJ77LQ0|          5|           44|         45|   Y|                N|0.9777777777777777|\n",
            "|R3867T8AIJJHM6|          5|           26|         27|   Y|                N|0.9629629629629629|\n",
            "|R1FNVUXPU63WOZ|          4|           43|         48|   Y|                N|0.8958333333333334|\n",
            "|R25XGG2G12SE1Z|          4|           20|         23|   Y|                N|0.8695652173913043|\n",
            "| R3JKU4HRDFZDH|          4|           27|         30|   Y|                N|               0.9|\n",
            "|R2PQYOCJXRB1BF|          5|           26|         28|   Y|                N|0.9285714285714286|\n",
            "|R1JBQ8UBLA8N4X|          4|          349|        370|   Y|                N|0.9432432432432433|\n",
            "|R2I01ZYMO0GYP1|          4|          107|        121|   Y|                N|0.8842975206611571|\n",
            "|R297GF8EF7AXPO|          2|           22|         30|   Y|                N|0.7333333333333333|\n",
            "|R2OFG89WKPLHGU|          5|           54|         60|   Y|                N|               0.9|\n",
            "|R13PI8O4697CEV|          4|          135|        144|   Y|                N|            0.9375|\n",
            "|R223MX62JYWUOY|          4|           20|         21|   Y|                N|0.9523809523809523|\n",
            "| RTSXZ0HZF623M|          3|           13|         22|   Y|                N|0.5909090909090909|\n",
            "|R1OB4GCKEYGV9I|          4|           61|         90|   Y|                N|0.6777777777777778|\n",
            "|R1YBNRRUD5WCG4|          5|           15|         20|   Y|                N|              0.75|\n",
            "|R3L4Z6NK2Z4OV5|          2|           24|         33|   Y|                N|0.7272727272727273|\n",
            "+--------------+-----------+-------------+-----------+----+-----------------+------------------+\n",
            "only showing top 20 rows\n",
            "\n"
          ]
        }
      ]
    },
    {
      "cell_type": "code",
      "source": [
        "vine_nviews_df = helpful_votes_df.filter(col(\"vine\").contains('N'))\n",
        "vine_nviews_df.show()"
      ],
      "metadata": {
        "colab": {
          "base_uri": "https://localhost:8080/"
        },
        "id": "SZsTmVOo96xG",
        "outputId": "9c771848-366f-4ee2-e24e-ed66b7c34397"
      },
      "execution_count": 14,
      "outputs": [
        {
          "output_type": "stream",
          "name": "stdout",
          "text": [
            "+--------------+-----------+-------------+-----------+----+-----------------+------------------+\n",
            "|     review_id|star_rating|helpful_votes|total_votes|vine|verified_purchase|             Ratio|\n",
            "+--------------+-----------+-------------+-----------+----+-----------------+------------------+\n",
            "|R14W2VCHHK5V7W|          5|           19|         20|   N|                Y|              0.95|\n",
            "|R1S3T57O3OYT5S|          5|           19|         20|   N|                Y|              0.95|\n",
            "|R1BTWIBLYYVOV7|          5|           30|         30|   N|                Y|               1.0|\n",
            "|R3PXNV89DFIXKV|          5|           35|         37|   N|                Y|0.9459459459459459|\n",
            "|R2ZF9NYVT3J7D6|          5|           19|         22|   N|                Y|0.8636363636363636|\n",
            "|R20NYA5V0UF9NE|          5|           27|         28|   N|                Y|0.9642857142857143|\n",
            "|R2X8FZRUOS8R8C|          4|           25|         26|   N|                Y|0.9615384615384616|\n",
            "|R2D8IMBVX3XCLF|          1|           14|         20|   N|                Y|               0.7|\n",
            "|R25UD9TA63L3Q8|          5|           25|         27|   N|                Y|0.9259259259259259|\n",
            "|R2RB1HML8N712P|          5|           26|         28|   N|                Y|0.9285714285714286|\n",
            "| ROXA8XP5EI2KK|          5|           48|         49|   N|                N|0.9795918367346939|\n",
            "|R149IHTGGSRGX9|          5|           19|         20|   N|                Y|              0.95|\n",
            "|R2N92CUM7WBA1A|          5|           27|         28|   N|                Y|0.9642857142857143|\n",
            "|R2TAFZNG4KHFQB|          4|           24|         24|   N|                Y|               1.0|\n",
            "| RNRFACS48ZE4A|          5|           21|         21|   N|                Y|               1.0|\n",
            "|R2PO5QTLXJ9LHG|          5|           33|         46|   N|                N| 0.717391304347826|\n",
            "|R38KDT041DRMIN|          5|           19|         24|   N|                Y|0.7916666666666666|\n",
            "|R2MNPDWCA42I4G|          1|           17|         20|   N|                N|              0.85|\n",
            "|R3F3KMKY26K620|          4|           25|         26|   N|                Y|0.9615384615384616|\n",
            "|R2PU32HT6X9DOM|          5|           23|         24|   N|                Y|0.9583333333333334|\n",
            "+--------------+-----------+-------------+-----------+----+-----------------+------------------+\n",
            "only showing top 20 rows\n",
            "\n"
          ]
        }
      ]
    },
    {
      "cell_type": "code",
      "source": [
        "helpful_votes_df.agg({'total_votes': 'sum'}).show()\n",
        "#https://www.geeksforgeeks.org/how-to-find-the-sum-of-particular-column-in-pyspark-dataframe/"
      ],
      "metadata": {
        "colab": {
          "base_uri": "https://localhost:8080/"
        },
        "id": "olnLZboJ-gxd",
        "outputId": "9a1ac3fd-1ca0-46f4-9b80-ba07bdf69da0"
      },
      "execution_count": 15,
      "outputs": [
        {
          "output_type": "stream",
          "name": "stdout",
          "text": [
            "+----------------+\n",
            "|sum(total_votes)|\n",
            "+----------------+\n",
            "|          396475|\n",
            "+----------------+\n",
            "\n"
          ]
        }
      ]
    },
    {
      "cell_type": "code",
      "source": [
        "review_count = helpful_votes_df.count()\n",
        "print(f'The total number of reviews is {review_count}')\n",
        "print(f'The total number of 5-star reviews is {total_fives}')\n"
      ],
      "metadata": {
        "colab": {
          "base_uri": "https://localhost:8080/"
        },
        "id": "0wksjLrEAVzC",
        "outputId": "fde19000-b0b0-4c7c-b9e5-e0774db71931"
      },
      "execution_count": 43,
      "outputs": [
        {
          "output_type": "stream",
          "name": "stdout",
          "text": [
            "The total number of reviews is 8409\n",
            "The total number of 5-star reviews is 4347\n"
          ]
        }
      ]
    },
    {
      "cell_type": "code",
      "source": [
        "vine_yviews_df.filter(col(\"star_rating\").contains('5')).show()\n"
      ],
      "metadata": {
        "colab": {
          "base_uri": "https://localhost:8080/"
        },
        "id": "zluQiesXCwR-",
        "outputId": "40227e44-64c8-4cb2-ba9f-32098f80d363"
      },
      "execution_count": 24,
      "outputs": [
        {
          "output_type": "stream",
          "name": "stdout",
          "text": [
            "+--------------+-----------+-------------+-----------+----+-----------------+------------------+\n",
            "|     review_id|star_rating|helpful_votes|total_votes|vine|verified_purchase|             Ratio|\n",
            "+--------------+-----------+-------------+-----------+----+-----------------+------------------+\n",
            "|R1B7M0OP3UNP6O|          5|           49|         52|   Y|                N|0.9423076923076923|\n",
            "|R2UUV4UGGYMQG8|          5|           34|         39|   Y|                N|0.8717948717948718|\n",
            "| RBE09ELJ77LQ0|          5|           44|         45|   Y|                N|0.9777777777777777|\n",
            "|R3867T8AIJJHM6|          5|           26|         27|   Y|                N|0.9629629629629629|\n",
            "|R2PQYOCJXRB1BF|          5|           26|         28|   Y|                N|0.9285714285714286|\n",
            "|R2OFG89WKPLHGU|          5|           54|         60|   Y|                N|               0.9|\n",
            "|R1YBNRRUD5WCG4|          5|           15|         20|   Y|                N|              0.75|\n",
            "|R33Y1P0VTKF46V|          5|           18|         22|   Y|                N|0.8181818181818182|\n",
            "|R2VUWQQBXC9MW9|          5|           47|         51|   Y|                N|0.9215686274509803|\n",
            "|R2PGKWCC0DJNO4|          5|           23|         24|   Y|                N|0.9583333333333334|\n",
            "|R1VPI6UTL1K31V|          5|           27|         29|   Y|                N|0.9310344827586207|\n",
            "| RMEMUGWUX63KU|          5|           34|         36|   Y|                N|0.9444444444444444|\n",
            "|R3TZBND29248V0|          5|           66|         71|   Y|                N|0.9295774647887324|\n",
            "| R5G8T9UNLDU5A|          5|           44|         44|   Y|                N|               1.0|\n",
            "|R33HPSRJ5K3RHP|          5|           19|         22|   Y|                N|0.8636363636363636|\n",
            "+--------------+-----------+-------------+-----------+----+-----------------+------------------+\n",
            "\n"
          ]
        }
      ]
    },
    {
      "cell_type": "code",
      "source": [
        "five_star_y = vine_yviews_df.filter(col(\"star_rating\").contains('5'))\n",
        "five_star_count = five_star_y.count()\n",
        "five_star_count\n",
        "pct_y = (five_star_count/total_fives) * 100\n",
        "print(f'{pct_y} percent of 5-star reviews are from the Vine program')"
      ],
      "metadata": {
        "colab": {
          "base_uri": "https://localhost:8080/"
        },
        "id": "Ev2-ennJA9b9",
        "outputId": "3db874ca-28b5-45cb-a9b2-1ce7e6523c1c"
      },
      "execution_count": 45,
      "outputs": [
        {
          "output_type": "stream",
          "name": "stdout",
          "text": [
            "0.3450655624568668 percent of 5-star reviews are from the Vine program\n"
          ]
        }
      ]
    },
    {
      "cell_type": "code",
      "source": [
        "count_fives_df = vine_nviews_df.filter(col(\"star_rating\").contains('5'))\n",
        "count_fives_df.show()"
      ],
      "metadata": {
        "colab": {
          "base_uri": "https://localhost:8080/"
        },
        "id": "SLW8jPIwDOyD",
        "outputId": "1e5533bf-e1ae-4b40-e6e5-c64d2b3924b0"
      },
      "execution_count": 18,
      "outputs": [
        {
          "output_type": "stream",
          "name": "stdout",
          "text": [
            "+--------------+-----------+-------------+-----------+----+-----------------+------------------+\n",
            "|     review_id|star_rating|helpful_votes|total_votes|vine|verified_purchase|             Ratio|\n",
            "+--------------+-----------+-------------+-----------+----+-----------------+------------------+\n",
            "|R14W2VCHHK5V7W|          5|           19|         20|   N|                Y|              0.95|\n",
            "|R1S3T57O3OYT5S|          5|           19|         20|   N|                Y|              0.95|\n",
            "|R1BTWIBLYYVOV7|          5|           30|         30|   N|                Y|               1.0|\n",
            "|R3PXNV89DFIXKV|          5|           35|         37|   N|                Y|0.9459459459459459|\n",
            "|R2ZF9NYVT3J7D6|          5|           19|         22|   N|                Y|0.8636363636363636|\n",
            "|R20NYA5V0UF9NE|          5|           27|         28|   N|                Y|0.9642857142857143|\n",
            "|R25UD9TA63L3Q8|          5|           25|         27|   N|                Y|0.9259259259259259|\n",
            "|R2RB1HML8N712P|          5|           26|         28|   N|                Y|0.9285714285714286|\n",
            "| ROXA8XP5EI2KK|          5|           48|         49|   N|                N|0.9795918367346939|\n",
            "|R149IHTGGSRGX9|          5|           19|         20|   N|                Y|              0.95|\n",
            "|R2N92CUM7WBA1A|          5|           27|         28|   N|                Y|0.9642857142857143|\n",
            "| RNRFACS48ZE4A|          5|           21|         21|   N|                Y|               1.0|\n",
            "|R2PO5QTLXJ9LHG|          5|           33|         46|   N|                N| 0.717391304347826|\n",
            "|R38KDT041DRMIN|          5|           19|         24|   N|                Y|0.7916666666666666|\n",
            "|R2PU32HT6X9DOM|          5|           23|         24|   N|                Y|0.9583333333333334|\n",
            "|R1E96GHLGQ5H9D|          5|           22|         22|   N|                Y|               1.0|\n",
            "|R33BKAVFS3HJ97|          5|           22|         23|   N|                N|0.9565217391304348|\n",
            "| R3BFHNMC7PBKS|          5|           26|         28|   N|                Y|0.9285714285714286|\n",
            "|R3G6S19I8AUY52|          5|           33|         36|   N|                Y|0.9166666666666666|\n",
            "|R3DRNQOUII2XD0|          5|           40|         41|   N|                Y| 0.975609756097561|\n",
            "+--------------+-----------+-------------+-----------+----+-----------------+------------------+\n",
            "only showing top 20 rows\n",
            "\n"
          ]
        }
      ]
    },
    {
      "cell_type": "code",
      "source": [
        "five_starn_count = count_fives_df.count()\n",
        "five_starn_count\n",
        "pct_n = (five_starn_count/total_fives) * 100\n",
        "print(f'{pct_n} percent of 5-star reviews are NOT from the Vine program')"
      ],
      "metadata": {
        "colab": {
          "base_uri": "https://localhost:8080/"
        },
        "id": "yTYRI0RdCfkj",
        "outputId": "33ea698e-feb0-432b-fbc2-60c1f59c5e2c"
      },
      "execution_count": 47,
      "outputs": [
        {
          "output_type": "stream",
          "name": "stdout",
          "text": [
            "99.65493443754313 percent of 5-star reviews are NOT from the Vine program\n"
          ]
        }
      ]
    },
    {
      "cell_type": "code",
      "source": [
        "count_fives_df.count()\n",
        "print(f'There are {count_fives_df.count()} 5-star Reviews')"
      ],
      "metadata": {
        "colab": {
          "base_uri": "https://localhost:8080/"
        },
        "id": "qyhhFee5DycK",
        "outputId": "e89f0652-e5bb-4bc4-faf0-3f7e231ca28b"
      },
      "execution_count": 19,
      "outputs": [
        {
          "output_type": "stream",
          "name": "stdout",
          "text": [
            "There are 4332 5-star Reviews\n"
          ]
        }
      ]
    },
    {
      "cell_type": "markdown",
      "source": [
        "## Practice exporting to Pandas"
      ],
      "metadata": {
        "id": "uCJ5ja0J_UQN"
      }
    },
    {
      "cell_type": "code",
      "source": [
        "counts_df = count_fives_df.toPandas()"
      ],
      "metadata": {
        "id": "AfGb265EEKOd"
      },
      "execution_count": 20,
      "outputs": []
    },
    {
      "cell_type": "code",
      "source": [
        "counts_df.head()"
      ],
      "metadata": {
        "colab": {
          "base_uri": "https://localhost:8080/",
          "height": 206
        },
        "id": "pbVLj5K0Jd6x",
        "outputId": "029a4e86-4e28-48d8-cb81-a257c2c0ddd7"
      },
      "execution_count": 21,
      "outputs": [
        {
          "output_type": "execute_result",
          "data": {
            "text/plain": [
              "        review_id  star_rating  helpful_votes  total_votes vine  \\\n",
              "0  R14W2VCHHK5V7W            5             19           20    N   \n",
              "1  R1S3T57O3OYT5S            5             19           20    N   \n",
              "2  R1BTWIBLYYVOV7            5             30           30    N   \n",
              "3  R3PXNV89DFIXKV            5             35           37    N   \n",
              "4  R2ZF9NYVT3J7D6            5             19           22    N   \n",
              "\n",
              "  verified_purchase     Ratio  \n",
              "0                 Y  0.950000  \n",
              "1                 Y  0.950000  \n",
              "2                 Y  1.000000  \n",
              "3                 Y  0.945946  \n",
              "4                 Y  0.863636  "
            ],
            "text/html": [
              "\n",
              "  <div id=\"df-a0aa324d-f824-4d47-a871-f0d4c470256b\">\n",
              "    <div class=\"colab-df-container\">\n",
              "      <div>\n",
              "<style scoped>\n",
              "    .dataframe tbody tr th:only-of-type {\n",
              "        vertical-align: middle;\n",
              "    }\n",
              "\n",
              "    .dataframe tbody tr th {\n",
              "        vertical-align: top;\n",
              "    }\n",
              "\n",
              "    .dataframe thead th {\n",
              "        text-align: right;\n",
              "    }\n",
              "</style>\n",
              "<table border=\"1\" class=\"dataframe\">\n",
              "  <thead>\n",
              "    <tr style=\"text-align: right;\">\n",
              "      <th></th>\n",
              "      <th>review_id</th>\n",
              "      <th>star_rating</th>\n",
              "      <th>helpful_votes</th>\n",
              "      <th>total_votes</th>\n",
              "      <th>vine</th>\n",
              "      <th>verified_purchase</th>\n",
              "      <th>Ratio</th>\n",
              "    </tr>\n",
              "  </thead>\n",
              "  <tbody>\n",
              "    <tr>\n",
              "      <th>0</th>\n",
              "      <td>R14W2VCHHK5V7W</td>\n",
              "      <td>5</td>\n",
              "      <td>19</td>\n",
              "      <td>20</td>\n",
              "      <td>N</td>\n",
              "      <td>Y</td>\n",
              "      <td>0.950000</td>\n",
              "    </tr>\n",
              "    <tr>\n",
              "      <th>1</th>\n",
              "      <td>R1S3T57O3OYT5S</td>\n",
              "      <td>5</td>\n",
              "      <td>19</td>\n",
              "      <td>20</td>\n",
              "      <td>N</td>\n",
              "      <td>Y</td>\n",
              "      <td>0.950000</td>\n",
              "    </tr>\n",
              "    <tr>\n",
              "      <th>2</th>\n",
              "      <td>R1BTWIBLYYVOV7</td>\n",
              "      <td>5</td>\n",
              "      <td>30</td>\n",
              "      <td>30</td>\n",
              "      <td>N</td>\n",
              "      <td>Y</td>\n",
              "      <td>1.000000</td>\n",
              "    </tr>\n",
              "    <tr>\n",
              "      <th>3</th>\n",
              "      <td>R3PXNV89DFIXKV</td>\n",
              "      <td>5</td>\n",
              "      <td>35</td>\n",
              "      <td>37</td>\n",
              "      <td>N</td>\n",
              "      <td>Y</td>\n",
              "      <td>0.945946</td>\n",
              "    </tr>\n",
              "    <tr>\n",
              "      <th>4</th>\n",
              "      <td>R2ZF9NYVT3J7D6</td>\n",
              "      <td>5</td>\n",
              "      <td>19</td>\n",
              "      <td>22</td>\n",
              "      <td>N</td>\n",
              "      <td>Y</td>\n",
              "      <td>0.863636</td>\n",
              "    </tr>\n",
              "  </tbody>\n",
              "</table>\n",
              "</div>\n",
              "      <button class=\"colab-df-convert\" onclick=\"convertToInteractive('df-a0aa324d-f824-4d47-a871-f0d4c470256b')\"\n",
              "              title=\"Convert this dataframe to an interactive table.\"\n",
              "              style=\"display:none;\">\n",
              "        \n",
              "  <svg xmlns=\"http://www.w3.org/2000/svg\" height=\"24px\"viewBox=\"0 0 24 24\"\n",
              "       width=\"24px\">\n",
              "    <path d=\"M0 0h24v24H0V0z\" fill=\"none\"/>\n",
              "    <path d=\"M18.56 5.44l.94 2.06.94-2.06 2.06-.94-2.06-.94-.94-2.06-.94 2.06-2.06.94zm-11 1L8.5 8.5l.94-2.06 2.06-.94-2.06-.94L8.5 2.5l-.94 2.06-2.06.94zm10 10l.94 2.06.94-2.06 2.06-.94-2.06-.94-.94-2.06-.94 2.06-2.06.94z\"/><path d=\"M17.41 7.96l-1.37-1.37c-.4-.4-.92-.59-1.43-.59-.52 0-1.04.2-1.43.59L10.3 9.45l-7.72 7.72c-.78.78-.78 2.05 0 2.83L4 21.41c.39.39.9.59 1.41.59.51 0 1.02-.2 1.41-.59l7.78-7.78 2.81-2.81c.8-.78.8-2.07 0-2.86zM5.41 20L4 18.59l7.72-7.72 1.47 1.35L5.41 20z\"/>\n",
              "  </svg>\n",
              "      </button>\n",
              "      \n",
              "  <style>\n",
              "    .colab-df-container {\n",
              "      display:flex;\n",
              "      flex-wrap:wrap;\n",
              "      gap: 12px;\n",
              "    }\n",
              "\n",
              "    .colab-df-convert {\n",
              "      background-color: #E8F0FE;\n",
              "      border: none;\n",
              "      border-radius: 50%;\n",
              "      cursor: pointer;\n",
              "      display: none;\n",
              "      fill: #1967D2;\n",
              "      height: 32px;\n",
              "      padding: 0 0 0 0;\n",
              "      width: 32px;\n",
              "    }\n",
              "\n",
              "    .colab-df-convert:hover {\n",
              "      background-color: #E2EBFA;\n",
              "      box-shadow: 0px 1px 2px rgba(60, 64, 67, 0.3), 0px 1px 3px 1px rgba(60, 64, 67, 0.15);\n",
              "      fill: #174EA6;\n",
              "    }\n",
              "\n",
              "    [theme=dark] .colab-df-convert {\n",
              "      background-color: #3B4455;\n",
              "      fill: #D2E3FC;\n",
              "    }\n",
              "\n",
              "    [theme=dark] .colab-df-convert:hover {\n",
              "      background-color: #434B5C;\n",
              "      box-shadow: 0px 1px 3px 1px rgba(0, 0, 0, 0.15);\n",
              "      filter: drop-shadow(0px 1px 2px rgba(0, 0, 0, 0.3));\n",
              "      fill: #FFFFFF;\n",
              "    }\n",
              "  </style>\n",
              "\n",
              "      <script>\n",
              "        const buttonEl =\n",
              "          document.querySelector('#df-a0aa324d-f824-4d47-a871-f0d4c470256b button.colab-df-convert');\n",
              "        buttonEl.style.display =\n",
              "          google.colab.kernel.accessAllowed ? 'block' : 'none';\n",
              "\n",
              "        async function convertToInteractive(key) {\n",
              "          const element = document.querySelector('#df-a0aa324d-f824-4d47-a871-f0d4c470256b');\n",
              "          const dataTable =\n",
              "            await google.colab.kernel.invokeFunction('convertToInteractive',\n",
              "                                                     [key], {});\n",
              "          if (!dataTable) return;\n",
              "\n",
              "          const docLinkHtml = 'Like what you see? Visit the ' +\n",
              "            '<a target=\"_blank\" href=https://colab.research.google.com/notebooks/data_table.ipynb>data table notebook</a>'\n",
              "            + ' to learn more about interactive tables.';\n",
              "          element.innerHTML = '';\n",
              "          dataTable['output_type'] = 'display_data';\n",
              "          await google.colab.output.renderOutput(dataTable, element);\n",
              "          const docLink = document.createElement('div');\n",
              "          docLink.innerHTML = docLinkHtml;\n",
              "          element.appendChild(docLink);\n",
              "        }\n",
              "      </script>\n",
              "    </div>\n",
              "  </div>\n",
              "  "
            ]
          },
          "metadata": {},
          "execution_count": 21
        }
      ]
    },
    {
      "cell_type": "code",
      "source": [
        ""
      ],
      "metadata": {
        "id": "PhfQaAcpJyyl"
      },
      "execution_count": 21,
      "outputs": []
    }
  ]
}